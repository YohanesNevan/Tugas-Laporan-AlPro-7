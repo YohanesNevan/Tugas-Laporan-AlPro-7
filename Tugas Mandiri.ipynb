{
 "cells": [
  {
   "cell_type": "code",
   "execution_count": 5,
   "metadata": {},
   "outputs": [
    {
     "name": "stdout",
     "output_type": "stream",
     "text": [
      "'atma' dan 'maat' adalah anagram.\n"
     ]
    }
   ],
   "source": [
    "def cek_anagrams():\n",
    "    kata1 = input(\"Masukkan kata pertama: \")\n",
    "    kata2 = input(\"Masukkan kata kedua: \")\n",
    "\n",
    "    kata1 = kata1.replace(\" \", \"\").lower()\n",
    "    kata2 = kata2.replace(\" \", \"\").lower()\n",
    "\n",
    "    kata1_sorted = sorted(kata1)\n",
    "    kata2_sorted = sorted(kata2)\n",
    "\n",
    "    if kata1_sorted == kata2_sorted:\n",
    "        print(f\"'{kata1}' dan '{kata2}' adalah anagram.\")\n",
    "    else:\n",
    "        print(f\"'{kata1}' dan '{kata2}' bukan anagram.\")\n",
    "\n",
    "cek_anagrams()\n"
   ]
  },
  {
   "cell_type": "code",
   "execution_count": 4,
   "metadata": {},
   "outputs": [
    {
     "name": "stdout",
     "output_type": "stream",
     "text": [
      "makan ada 3 buah\n"
     ]
    }
   ],
   "source": [
    "def hitung_kemunculan_kata(kalimat, kata):\n",
    "    \n",
    "    kalimat = kalimat.lower()\n",
    "    kata = kata.lower()\n",
    "\n",
    "    count = kalimat.count(kata)\n",
    "    return count\n",
    "\n",
    "kalimat = \"Saya mau makan. Makan itu wajib. Mau siang atau malam saya wajib makan\"\n",
    "kata_dicari = \"makan\"\n",
    "\n",
    "jumlah_kemunculan = hitung_kemunculan_kata(kalimat, kata_dicari)\n",
    "print(f\"{kata_dicari} ada {jumlah_kemunculan} buah\")\n"
   ]
  },
  {
   "cell_type": "code",
   "execution_count": 5,
   "metadata": {},
   "outputs": [
    {
     "name": "stdout",
     "output_type": "stream",
     "text": [
      "saya tidak suka memancing ikan\n"
     ]
    }
   ],
   "source": [
    "def hapus_spasi_berlebih(kalimat):\n",
    "\n",
    "    kata_kalimat = kalimat.split()\n",
    "\n",
    "    kalimat_baru = ' '.join(kata_kalimat)\n",
    "\n",
    "    return kalimat_baru\n",
    "\n",
    "kalimat = \"saya tidak suka   memancing ikan \"\n",
    "kalimat_tanpa_spasi_berlebih = hapus_spasi_berlebih(kalimat)\n",
    "print(kalimat_tanpa_spasi_berlebih)\n"
   ]
  },
  {
   "cell_type": "code",
   "execution_count": 6,
   "metadata": {},
   "outputs": [
    {
     "name": "stdout",
     "output_type": "stream",
     "text": [
      "Output: terpendek: a, terpanjang: snakes\n"
     ]
    }
   ],
   "source": [
    "def terpendek_terpanjang_kata(sentence):\n",
    "    words = sentence.split()\n",
    "\n",
    "    terpendek_kata = min(words, key=len)\n",
    "    terpanjang_kata = max(words, key=len)\n",
    "\n",
    "    return terpendek_kata, terpanjang_kata\n",
    "\n",
    "kalimat = input(\"Masukkan kalimat: \")\n",
    "\n",
    "terpendek, terpanjang = terpendek_terpanjang_kata(kalimat)\n",
    "\n",
    "print(\"Output: terpendek:\", terpendek + \",\", \"terpanjang:\", terpanjang)\n"
   ]
  }
 ],
 "metadata": {
  "kernelspec": {
   "display_name": "Python 3",
   "language": "python",
   "name": "python3"
  },
  "language_info": {
   "codemirror_mode": {
    "name": "ipython",
    "version": 3
   },
   "file_extension": ".py",
   "mimetype": "text/x-python",
   "name": "python",
   "nbconvert_exporter": "python",
   "pygments_lexer": "ipython3",
   "version": "3.12.2"
  }
 },
 "nbformat": 4,
 "nbformat_minor": 2
}
